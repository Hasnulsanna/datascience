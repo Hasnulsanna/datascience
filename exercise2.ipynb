{
 "cells": [
  {
   "cell_type": "code",
   "execution_count": 1,
   "id": "9022af56-b9cb-4727-a006-93fa96f34b53",
   "metadata": {},
   "outputs": [],
   "source": [
    "#exercise2\n",
    "#quuuestion1 \n",
    "import numpy as np"
   ]
  },
  {
   "cell_type": "code",
   "execution_count": 5,
   "id": "850f05d9-700a-438b-b18c-82e3dd39b8ca",
   "metadata": {},
   "outputs": [
    {
     "name": "stdin",
     "output_type": "stream",
     "text": [
      "Enter no. of rows 2\n"
     ]
    },
    {
     "name": "stdout",
     "output_type": "stream",
     "text": [
      "Enter the values for matrix 1\n",
      "\n"
     ]
    },
    {
     "name": "stdin",
     "output_type": "stream",
     "text": [
      "Enter the numbers:  1 2\n",
      "Enter the numbers:  2 4\n"
     ]
    },
    {
     "name": "stdout",
     "output_type": "stream",
     "text": [
      "\n",
      " Enter the values for matrix 2\n",
      "\n"
     ]
    },
    {
     "name": "stdin",
     "output_type": "stream",
     "text": [
      "Enter the numbers:  5 6\n",
      "Enter the numbers:  8 9\n"
     ]
    },
    {
     "name": "stdout",
     "output_type": "stream",
     "text": [
      "\n",
      " Matrix 1: \n",
      " [[1 2]\n",
      " [2 4]]\n",
      "\n",
      " Matrix 2: \n",
      " [[5 6]\n",
      " [8 9]]\n"
     ]
    }
   ],
   "source": [
    "r = int(input(\"Enter no. of rows\"))\n",
    "l1 = []\n",
    "l2 = []\n",
    "print(\"Enter the values for matrix 1\\n\")\n",
    "for i in range(r):\n",
    "    a = np.array(list(map(int, input(\"Enter the numbers: \").split())))\n",
    "    l1.append(a)\n",
    "print(\"\\n Enter the values for matrix 2\\n\")\n",
    "for i in range(r):\n",
    "    b = np.array(list(map(int, input(\"Enter the numbers: \").split())))\n",
    "    l2.append(b)\n",
    "m1=np.matrix(l1)\n",
    "m2=np.matrix(l2)\n",
    "print(\"\\n Matrix 1: \\n\",m1)\n",
    "print(\"\\n Matrix 2: \\n\",m2)"
   ]
  },
  {
   "cell_type": "code",
   "execution_count": 6,
   "id": "1a721b16-c192-4b36-a8ac-d17e7cfda493",
   "metadata": {},
   "outputs": [
    {
     "name": "stdout",
     "output_type": "stream",
     "text": [
      "Dot Product: \n"
     ]
    },
    {
     "data": {
      "text/plain": [
       "matrix([[21, 24],\n",
       "        [42, 48]])"
      ]
     },
     "execution_count": 6,
     "metadata": {},
     "output_type": "execute_result"
    }
   ],
   "source": [
    "print(\"Dot Product: \")\n",
    "np.dot(m1,m2)"
   ]
  },
  {
   "cell_type": "code",
   "execution_count": 7,
   "id": "d257c440-87a8-4efb-af8a-2e751f5da77e",
   "metadata": {},
   "outputs": [
    {
     "name": "stdout",
     "output_type": "stream",
     "text": [
      "Transpose of matrix 1 \n",
      " [[1 2]\n",
      " [2 4]] \n",
      "\n",
      "Transpose of matrix 2\n",
      " [[5 8]\n",
      " [6 9]]\n"
     ]
    }
   ],
   "source": [
    "#q2\n",
    "print(\"Transpose of matrix 1 \\n\",np.transpose(m1),\"\\n\\nTranspose of matrix 2\\n\",np.transpose(m2))"
   ]
  },
  {
   "cell_type": "code",
   "execution_count": 8,
   "id": "ce675251-7416-4766-af12-42373db31d9d",
   "metadata": {},
   "outputs": [
    {
     "name": "stdout",
     "output_type": "stream",
     "text": [
      "Trace of matrix 1\n",
      " 5 \n",
      "\n",
      "Trace of matrix 2\n",
      " 14\n"
     ]
    }
   ],
   "source": [
    "#q3 trace\n",
    "print(\"Trace of matrix 1\\n\",np.trace(m1),\"\\n\\nTrace of matrix 2\\n\",np.trace(m2))"
   ]
  },
  {
   "cell_type": "code",
   "execution_count": 9,
   "id": "b92f8576-1b56-4edd-8a44-82a76a09ed26",
   "metadata": {},
   "outputs": [
    {
     "name": "stdout",
     "output_type": "stream",
     "text": [
      "Rank of matrix 1\n",
      " 1 \n",
      "\n",
      "Rank of matrix 2\n",
      " 2\n"
     ]
    }
   ],
   "source": [
    "#4.rank\n",
    "print(\"Rank of matrix 1\\n\",np.linalg.matrix_rank(m1),\"\\n\\nRank of matrix 2\\n\",np.linalg.matrix_rank(m2))"
   ]
  },
  {
   "cell_type": "code",
   "execution_count": 10,
   "id": "90977389-430c-4fbf-ba0d-e9257104a6ff",
   "metadata": {},
   "outputs": [
    {
     "name": "stdout",
     "output_type": "stream",
     "text": [
      "Determinant of matrix 1\n",
      " 0.0 \n",
      "\n",
      "Determinant of matrix 2\n",
      " -2.9999999999999996\n"
     ]
    }
   ],
   "source": [
    "#5 determnt\n",
    "\n",
    "print(\"Determinant of matrix 1\\n\",np.linalg.det(m1),\"\\n\\nDeterminant of matrix 2\\n\",np.linalg.det(m2))"
   ]
  },
  {
   "cell_type": "code",
   "execution_count": 11,
   "id": "d8faa67a-94d7-4b2a-9e87-36b0d8cd1598",
   "metadata": {},
   "outputs": [
    {
     "name": "stdout",
     "output_type": "stream",
     "text": [
      "Matrix 1 is singluar \n",
      "\n",
      "Inverse of matrix 2\n",
      " [[-3.          2.        ]\n",
      " [ 2.66666667 -1.66666667]]\n"
     ]
    }
   ],
   "source": [
    "#6inverse\n",
    "if np.linalg.det(m1) != 0 :\n",
    "    print(\"Inverse of matrix 1\\n\",np.linalg.inv(m1))\n",
    "else:\n",
    "    print(\"Matrix 1 is singluar \\n\")\n",
    "\n",
    "if np.linalg.det(m2) != 0 :\n",
    "    print(\"Inverse of matrix 2\\n\",np.linalg.inv(m2))\n",
    "else:\n",
    "    print(\"Matrix 2 is singluar \")"
   ]
  },
  {
   "cell_type": "code",
   "execution_count": 12,
   "id": "1ea727cc-d633-4af9-a62c-8290f61ba614",
   "metadata": {},
   "outputs": [
    {
     "name": "stdout",
     "output_type": "stream",
     "text": [
      "Eigen values of matrix 1\n",
      " (array([0., 5.]), matrix([[-0.89442719, -0.4472136 ],\n",
      "        [ 0.4472136 , -0.89442719]])) \n",
      "\n",
      "Eigen values of matrix 2\n",
      " (array([-0.21110255, 14.21110255]), matrix([[-0.75499722, -0.54580557],\n",
      "        [ 0.65572799, -0.83791185]]))\n"
     ]
    }
   ],
   "source": [
    "# 7. Eigen Values and Eigen Vectors\n",
    "ss\n",
    "print(\"Eigen values of matrix 1\\n\",np.linalg.eig(m1),\"\\n\\nEigen values of matrix 2\\n\",np.linalg.eig(m2))"
   ]
  },
  {
   "cell_type": "code",
   "execution_count": null,
   "id": "12ee7258-9122-4d6b-800d-fcf82b9f35dc",
   "metadata": {},
   "outputs": [],
   "source": []
  }
 ],
 "metadata": {
  "kernelspec": {
   "display_name": "Python 3 (ipykernel)",
   "language": "python",
   "name": "python3"
  },
  "language_info": {
   "codemirror_mode": {
    "name": "ipython",
    "version": 3
   },
   "file_extension": ".py",
   "mimetype": "text/x-python",
   "name": "python",
   "nbconvert_exporter": "python",
   "pygments_lexer": "ipython3",
   "version": "3.9.12"
  }
 },
 "nbformat": 4,
 "nbformat_minor": 5
}
