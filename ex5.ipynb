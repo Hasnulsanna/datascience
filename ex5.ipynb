{
 "cells": [
  {
   "cell_type": "code",
   "execution_count": 1,
   "id": "82e63e81-b867-4827-92b3-e0b47ab84cc3",
   "metadata": {},
   "outputs": [
    {
     "name": "stdin",
     "output_type": "stream",
     "text": [
      "sepal legnth: 5\n",
      "sepal width: 7\n",
      "petal legnth: 3\n",
      "petal width: 1\n"
     ]
    },
    {
     "name": "stdout",
     "output_type": "stream",
     "text": [
      "[0]\n"
     ]
    }
   ],
   "source": [
    "from sklearn.neighbors import KNeighborsClassifier \n",
    "from sklearn.model_selection import train_test_split \n",
    "from sklearn.datasets import load_iris \n",
    "\n",
    "\n",
    "irisData = load_iris() \n",
    "\n",
    "\n",
    "X = irisData.data \n",
    "y = irisData.target \n",
    "\n",
    "\n",
    "X_train, X_test, y_train, y_test = train_test_split( X, y, test_size = 0.2, random_state=42) \n",
    "\n",
    "knn = KNeighborsClassifier(n_neighbors=3) \n",
    "\n",
    "knn.fit(X_train, y_train) \n",
    "\n",
    "a=float(input(\"sepal legnth:\"))\n",
    "b=float(input(\"sepal width:\"))\n",
    "c=float(input(\"petal legnth:\"))\n",
    "d=float(input(\"petal width:\"))\n",
    "\n",
    "print(knn.predict([[a,b,c,d]])) \n",
    "#0:setosa,1:versicolor,2:virginica"
   ]
  },
  {
   "cell_type": "code",
   "execution_count": null,
   "id": "e386203c-d5d3-42b4-9bd5-19f8781bf27e",
   "metadata": {},
   "outputs": [],
   "source": []
  }
 ],
 "metadata": {
  "kernelspec": {
   "display_name": "Python 3 (ipykernel)",
   "language": "python",
   "name": "python3"
  },
  "language_info": {
   "codemirror_mode": {
    "name": "ipython",
    "version": 3
   },
   "file_extension": ".py",
   "mimetype": "text/x-python",
   "name": "python",
   "nbconvert_exporter": "python",
   "pygments_lexer": "ipython3",
   "version": "3.9.12"
  }
 },
 "nbformat": 4,
 "nbformat_minor": 5
}
