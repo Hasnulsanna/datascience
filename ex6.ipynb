{
 "cells": [
  {
   "cell_type": "code",
   "execution_count": 3,
   "id": "11c997e8-658d-41df-af55-51dff7d5bbcb",
   "metadata": {},
   "outputs": [
    {
     "name": "stdin",
     "output_type": "stream",
     "text": [
      "sepal legnth: 2\n",
      "sepal width: 3\n",
      "petal legnth: 5\n",
      "petal width: 8\n"
     ]
    },
    {
     "name": "stdout",
     "output_type": "stream",
     "text": [
      "[2]\n"
     ]
    }
   ],
   "source": [
    "from sklearn.tree import DecisionTreeClassifier\n",
    "from sklearn.model_selection import train_test_split \n",
    "from sklearn.datasets import load_iris \n",
    "\n",
    "\n",
    "irisData = load_iris() \n",
    "lf = DecisionTreeClassifier()\n",
    "\n",
    "X = irisData.data \n",
    "y = irisData.target \n",
    "\n",
    "\n",
    "X_train, X_test, y_train, y_test = train_test_split( X, y, test_size = 0.2, random_state=42) \n",
    "\n",
    "lf.fit(X_train, y_train) \n",
    "\n",
    "a=float(input(\"sepal legnth:\"))\n",
    "b=float(input(\"sepal width:\"))\n",
    "c=float(input(\"petal legnth:\"))\n",
    "d=float(input(\"petal width:\"))\n",
    "\n",
    "print(lf.predict([[a,b,c,d]])) \n",
    "#0:setosa,1:versicolor,2:virginica"
   ]
  },
  {
   "cell_type": "code",
   "execution_count": null,
   "id": "df2857c6-4152-44e8-b590-c10ae92ae76a",
   "metadata": {},
   "outputs": [],
   "source": []
  }
 ],
 "metadata": {
  "kernelspec": {
   "display_name": "Python 3 (ipykernel)",
   "language": "python",
   "name": "python3"
  },
  "language_info": {
   "codemirror_mode": {
    "name": "ipython",
    "version": 3
   },
   "file_extension": ".py",
   "mimetype": "text/x-python",
   "name": "python",
   "nbconvert_exporter": "python",
   "pygments_lexer": "ipython3",
   "version": "3.9.12"
  }
 },
 "nbformat": 4,
 "nbformat_minor": 5
}
