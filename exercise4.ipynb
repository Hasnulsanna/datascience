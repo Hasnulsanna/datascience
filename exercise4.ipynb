{
 "cells": [
  {
   "cell_type": "code",
   "execution_count": 2,
   "id": "52e2dee4-deb4-4a6d-99b6-05c8ee4347f0",
   "metadata": {},
   "outputs": [
    {
     "name": "stdout",
     "output_type": "stream",
     "text": [
      "Collecting pandas\n",
      "  Downloading pandas-2.1.2-cp39-cp39-manylinux_2_17_x86_64.manylinux2014_x86_64.whl (12.3 MB)\n",
      "\u001b[K     |████████████████████████████████| 12.3 MB 1.6 MB/s eta 0:00:01\n",
      "\u001b[?25hCollecting numpy<2,>=1.22.4\n",
      "  Downloading numpy-1.26.1-cp39-cp39-manylinux_2_17_x86_64.manylinux2014_x86_64.whl (18.2 MB)\n",
      "\u001b[K     |████████████████████████████████| 18.2 MB 61.7 MB/s eta 0:00:01\n",
      "\u001b[?25hRequirement already satisfied: pytz>=2020.1 in /home/exam1/miniconda3/lib/python3.9/site-packages (from pandas) (2022.1)\n",
      "Requirement already satisfied: python-dateutil>=2.8.2 in /home/exam1/miniconda3/lib/python3.9/site-packages (from pandas) (2.8.2)\n",
      "Collecting tzdata>=2022.1\n",
      "  Downloading tzdata-2023.3-py2.py3-none-any.whl (341 kB)\n",
      "\u001b[K     |████████████████████████████████| 341 kB 75.4 MB/s eta 0:00:01\n",
      "\u001b[?25hRequirement already satisfied: six>=1.5 in /home/exam1/miniconda3/lib/python3.9/site-packages (from python-dateutil>=2.8.2->pandas) (1.16.0)\n",
      "Installing collected packages: tzdata, numpy, pandas\n",
      "  Attempting uninstall: numpy\n",
      "    Found existing installation: numpy 1.21.5\n",
      "    Uninstalling numpy-1.21.5:\n",
      "      Successfully uninstalled numpy-1.21.5\n",
      "Successfully installed numpy-1.26.1 pandas-2.1.2 tzdata-2023.3\n",
      "Note: you may need to restart the kernel to use updated packages.\n"
     ]
    }
   ],
   "source": [
    "pip install pandas\n"
   ]
  },
  {
   "cell_type": "code",
   "execution_count": 3,
   "id": "52c2d4fe-4b89-4374-81be-ca48ad47164a",
   "metadata": {},
   "outputs": [
    {
     "name": "stdout",
     "output_type": "stream",
     "text": [
      "0    Geeks\n",
      "1      for\n",
      "2    Geeks\n",
      "dtype: object\n"
     ]
    }
   ],
   "source": [
    "\n",
    "import pandas as pd \n",
    "x = pd.Series(['Geeks', 'for', 'Geeks']) \n",
    "print(x) \n"
   ]
  },
  {
   "cell_type": "code",
   "execution_count": 9,
   "id": "1ce7c14b-7331-49fb-a731-5704653a5f9e",
   "metadata": {},
   "outputs": [
    {
     "name": "stdout",
     "output_type": "stream",
     "text": [
      "DatetimeIndex(['2021-05-01', '2021-05-02', '2021-05-03', '2021-05-04',\n",
      "               '2021-05-05', '2021-05-06', '2021-05-07', '2021-05-08',\n",
      "               '2021-05-09', '2021-05-10', '2021-05-11', '2021-05-12'],\n",
      "              dtype='datetime64[ns]', freq='D')\n"
     ]
    }
   ],
   "source": [
    "import pandas as pd\n",
    "d=pd.date_range(start='05-01-2021', end='05-12-2021')\n",
    "print(d)"
   ]
  },
  {
   "cell_type": "code",
   "execution_count": 10,
   "id": "5b5b4e1d-f131-4cce-a89f-7059ec7d24ab",
   "metadata": {},
   "outputs": [
    {
     "name": "stdout",
     "output_type": "stream",
     "text": [
      "     name  age         occ\n",
      "0   Vinay   22    engineer\n",
      "1  Kushal   25      doctor\n",
      "2    Aman   24  accountant\n"
     ]
    }
   ],
   "source": [
    "import pandas as pd \n",
    "dictionary = {'name': ['Vinay', 'Kushal', 'Aman'],\n",
    "              'age' : [22, 25, 24],\n",
    "              'occ' : ['engineer', 'doctor', 'accountant']}\n",
    "\n",
    "dataframe = pd.DataFrame(dictionary)\n",
    "\n",
    "print(dataframe)"
   ]
  },
  {
   "cell_type": "code",
   "execution_count": 11,
   "id": "81d1ed39-8276-4e7b-b02b-533b100e0b75",
   "metadata": {},
   "outputs": [
    {
     "name": "stdout",
     "output_type": "stream",
     "text": [
      "   id    name  age\n",
      "0   2  Vishal   22\n",
      "1   1  Kushal   25\n",
      "2   1    Aman   24\n"
     ]
    }
   ],
   "source": [
    "import pandas as pd \n",
    "lists = [[2, 'Vishal', 22],\n",
    "         [1, 'Kushal', 25],\n",
    "         [1, 'Aman', 24]]\n",
    "\n",
    "dataframe = pd.DataFrame(lists, columns = ['id', 'name', 'age'])\n",
    "\n",
    "print(dataframe)"
   ]
  },
  {
   "cell_type": "code",
   "execution_count": 12,
   "id": "9905a669-5fd8-4c4f-a7dc-8c3ca3252f0c",
   "metadata": {},
   "outputs": [
    {
     "name": "stdout",
     "output_type": "stream",
     "text": [
      "    sanna\n",
      "0  hasnul\n",
      "1  gopika\n",
      "2  anjana\n",
      "3  fathhi\n"
     ]
    }
   ],
   "source": [
    "\n",
    "dataframe = pd.read_csv('data.csv')\n",
    "\n",
    "print(dataframe)"
   ]
  },
  {
   "cell_type": "code",
   "execution_count": 19,
   "id": "8038e193-4e5f-4ca6-bf8b-31b4153ba9eb",
   "metadata": {},
   "outputs": [
    {
     "name": "stdout",
     "output_type": "stream",
     "text": [
      "   id    name  age\n",
      "0   2  Vishal   22\n",
      "1   5  Kushal   21\n",
      "2   1    Aman   24\n",
      "\n",
      "   id    name  age\n",
      "2   1    Aman   24\n",
      "0   2  Vishal   22\n",
      "1   5  Kushal   21\n"
     ]
    }
   ],
   "source": [
    "import pandas as pd \n",
    "lists = [[2, 'Vishal', 22],\n",
    "         [5, 'Kushal', 21],\n",
    "         [1, 'Aman', 24]]\n",
    "\n",
    "dataframe = pd.DataFrame(lists, columns = ['id', 'name', 'age'])\n",
    "print(dataframe) \n",
    "print()\n",
    "\n",
    "dataframe_sorted = dataframe.sort_values(by =['id', 'name', 'age']) # dataframe after sorting by 'id' and 'age'\n",
    "\n",
    "print(dataframe_sorted)\n"
   ]
  },
  {
   "cell_type": "code",
   "execution_count": 20,
   "id": "1eb1bf58-a99a-43ea-8829-346ace351554",
   "metadata": {},
   "outputs": [
    {
     "name": "stdout",
     "output_type": "stream",
     "text": [
      "   id    name  age\n",
      "0   2  Vishal   22\n",
      "1   5  Kushal   21\n",
      "2   1    Aman   24\n",
      "\n",
      "      name  age\n",
      "id             \n",
      "2   Vishal   22\n",
      "5   Kushal   21\n",
      "1     Aman   24\n",
      "\n",
      "   id    name  age\n",
      "0   2  Vishal   22\n",
      "1   5  Kushal   21\n",
      "2   1    Aman   24\n"
     ]
    }
   ],
   "source": [
    "lists = [[2, 'Vishal', 22],\n",
    "         [5, 'Kushal', 21],\n",
    "         [1, 'Aman', 24]]\n",
    "\n",
    "dataframe = pd.DataFrame(lists, columns = ['id', 'name', 'age'])\n",
    "print(dataframe) \n",
    "\n",
    "print()\n",
    "\n",
    "dataframe_customindex = dataframe.set_index('id') \n",
    "print(dataframe_customindex)\n",
    "\n",
    "print()\n",
    "\n",
    "dataframes = dataframe_customindex.reset_index()\n",
    "\n",
    "print(dataframes)"
   ]
  },
  {
   "cell_type": "code",
   "execution_count": 21,
   "id": "86798b06-a631-479e-998b-226e968f2269",
   "metadata": {},
   "outputs": [
    {
     "name": "stdout",
     "output_type": "stream",
     "text": [
      "   id    name  age\n",
      "0   2  Vishal   22\n",
      "1   5  Kushal   21\n"
     ]
    }
   ],
   "source": [
    "lists = [[2, 'Vishal', 22],\n",
    "         [5, 'Kushal', 21],\n",
    "         [1, 'Aman', 24]]\n",
    "\n",
    "dataframe = pd.DataFrame(lists, columns = ['id', 'name', 'age'])\n",
    "o = dataframe.iloc[[0,1], :]\n",
    "\n",
    "print(o)"
   ]
  },
  {
   "cell_type": "code",
   "execution_count": 26,
   "id": "2f4f225d-33df-49c1-a0cf-f3f1795e6a8e",
   "metadata": {},
   "outputs": [
    {
     "name": "stdout",
     "output_type": "stream",
     "text": [
      "     name  salary         occ\n",
      "0   Vinay    2200    engineer\n",
      "1  Kushal    2500      doctor\n",
      "2    Aman    2400  accountant\n",
      "\n",
      "occ\n",
      "accountant    2400.0\n",
      "doctor        2500.0\n",
      "engineer      2200.0\n",
      "Name: salary, dtype: float64\n"
     ]
    }
   ],
   "source": [
    "dataframe= {'name': ['Vinay', 'Kushal', 'Aman'],\n",
    "              'salary' : [2200, 2500, 2400],\n",
    "              'occ' : ['engineer', 'doctor', 'accountant']}\n",
    "dataframe = pd.DataFrame(dictionary)\n",
    "print(dataframe) \n",
    "\n",
    "print()\n",
    "occ_average_age = dataframe.groupby('occ')['salary'].mean()\n",
    "\n",
    "print(occ_average_age)"
   ]
  },
  {
   "cell_type": "code",
   "execution_count": 35,
   "id": "d8f03c70-9a00-4e00-bed2-a0e47e4b4a41",
   "metadata": {},
   "outputs": [
    {
     "name": "stdout",
     "output_type": "stream",
     "text": [
      "0               [nan, Kushal, Aman]\n",
      "1                 [2324, nan, 2400]\n",
      "2    [engineer, doctor, accountant]\n",
      "dtype: object\n",
      "\n",
      "0               [nan, Kushal, Aman]\n",
      "1                 [2324, nan, 2400]\n",
      "2    [engineer, doctor, accountant]\n",
      "dtype: object\n"
     ]
    }
   ],
   "source": [
    "import numpy as np\n",
    "dataframe = pd.Series([[np.NaN, 'Kushal', 'Aman'],[2324, np.NaN, 2400], ['engineer', 'doctor', 'accountant']])\n",
    "print(dataframe)\\\n",
    "\n",
    "print()\n",
    "\n",
    "dataframe_nullfill = dataframe.fillna(0)\n",
    "\n",
    "print(dataframe_nullfill) "
   ]
  },
  {
   "cell_type": "code",
   "execution_count": null,
   "id": "086af074-2888-4d4d-b945-009809e45424",
   "metadata": {},
   "outputs": [],
   "source": [
    "0         Shyam & Co.  -10000\n",
    "1      Ramlal & Bros.   10000\n",
    "2  Sharma Enterprises   -5000\n",
    "3    Verma Furnitures   15000\n",
    "4        Rahul Stores   20000"
   ]
  },
  {
   "cell_type": "code",
   "execution_count": 47,
   "id": "3a57109e-81e7-4100-8746-f7b4ee25b9f9",
   "metadata": {},
   "outputs": [
    {
     "name": "stdout",
     "output_type": "stream",
     "text": [
      "                 name  profit\n",
      "0          Shyam & Co  -10000\n",
      "1      Ramlal & Bros.   10000\n",
      "2  Sharma Enterprises   -5000\n",
      "3    Verma Furnitures   15000\n",
      "4        Rahul Stores   20000\n",
      "                 name  profit\n",
      "0          Shyam & Co   False\n",
      "1      Ramlal & Bros.    True\n",
      "2  Sharma Enterprises   False\n",
      "3    Verma Furnitures    True\n",
      "4        Rahul Stores    True\n"
     ]
    }
   ],
   "source": [
    "company_data={'name':['Shyam & Co','Ramlal & Bros.','Sharma Enterprises','Verma Furnitures', 'Rahul Stores'],\n",
    "                       'profit':[-10000,10000,-5000,15000,20000]\n",
    "                      }\n",
    "d=pd.DataFrame(company_data)\n",
    "\n",
    "print(d)\n",
    "d['profit'] = d['profit'].apply(lambda x:x>0)\n",
    "\n",
    "print(d)"
   ]
  },
  {
   "cell_type": "code",
   "execution_count": null,
   "id": "7a14f601-603c-49d6-9b22-18fa84334967",
   "metadata": {},
   "outputs": [],
   "source": [
    "0    1     Sid    10000\n",
    "1    2  Ramesh    10000\n",
    "2    3     Ron     5000\n",
    "3    4   Harry    15000\n"
   ]
  },
  {
   "cell_type": "code",
   "execution_count": 59,
   "id": "1f3241dd-8172-470a-bbf1-b57fdb8e09ae",
   "metadata": {},
   "outputs": [
    {
     "name": "stdout",
     "output_type": "stream",
     "text": [
      "   eid   ename  stipend\n",
      "0    1  Ramesh    10000\n",
      "1    2     Sid    14000\n",
      "\n",
      "   eid  position\n",
      "0    1  employee\n",
      "1    2    intern\n",
      "   eid   ename  stipend  position\n",
      "0    1  Ramesh    10000  employee\n",
      "1    2     Sid    14000    intern\n"
     ]
    }
   ],
   "source": [
    "emp_data={'eid':[1,2],\n",
    "          'ename':['Ramesh','Sid'],\n",
    "          'stipend':[10000,14000]\n",
    "                     }\n",
    "d=pd.DataFrame(emp_data)\n",
    "print(d)\n",
    "company_data={'eid':[1,2],\n",
    "              'position':['employee','intern']\n",
    "                       \n",
    "                     }\n",
    "f=pd.DataFrame(company_data)\n",
    "print()\n",
    "print(f)\n",
    "\n",
    "dataframe = pd.merge(d, f, how = 'inner', on = 'eid')\n",
    "\n",
    "print(dataframe)"
   ]
  },
  {
   "cell_type": "code",
   "execution_count": null,
   "id": "4895f98c-26ab-436e-a13f-83f3404c81a3",
   "metadata": {},
   "outputs": [],
   "source": []
  }
 ],
 "metadata": {
  "kernelspec": {
   "display_name": "Python 3 (ipykernel)",
   "language": "python",
   "name": "python3"
  },
  "language_info": {
   "codemirror_mode": {
    "name": "ipython",
    "version": 3
   },
   "file_extension": ".py",
   "mimetype": "text/x-python",
   "name": "python",
   "nbconvert_exporter": "python",
   "pygments_lexer": "ipython3",
   "version": "3.9.12"
  }
 },
 "nbformat": 4,
 "nbformat_minor": 5
}
